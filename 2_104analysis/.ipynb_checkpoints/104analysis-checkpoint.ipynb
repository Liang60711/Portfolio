{
 "cells": [
  {
   "cell_type": "markdown",
   "metadata": {},
   "source": [
    "## 從104人力銀行分析 該職缺相關技能"
   ]
  },
  {
   "cell_type": "code",
   "execution_count": 2,
   "metadata": {},
   "outputs": [],
   "source": [
    "import requests\n",
    "from bs4 import BeautifulSoup\n",
    "import numpy as np\n",
    "import pandas as pd\n",
    "import time\n",
    "import datetime\n",
    "import re\n",
    "import jieba\n",
    "from selenium import webdriver\n",
    "from selenium.webdriver.support.ui import Select\n"
   ]
  },
  {
   "cell_type": "markdown",
   "metadata": {},
   "source": [
    "### 函式定義"
   ]
  },
  {
   "cell_type": "code",
   "execution_count": 3,
   "metadata": {},
   "outputs": [],
   "source": [
    "def getSoup(url):\n",
    "    resp=requests.get(url)\n",
    "    resp.encoding='utf-8'\n",
    "    if resp.status_code==200:\n",
    "        soup=BeautifulSoup(resp.text,'lxml')\n",
    "        return soup\n",
    "    return None"
   ]
  },
  {
   "cell_type": "code",
   "execution_count": 4,
   "metadata": {},
   "outputs": [],
   "source": [
    "def getWebdriver(url,bgmode=False,wait=10):\n",
    "    if bgmode==True:\n",
    "        options=webdriver.ChromeOptions()\n",
    "        options.add_argument('--headless')\n",
    "    try:\n",
    "        driver=webdriver.Chrome(r'C:\\Users\\LIANG\\Desktop\\profilio_sourcecode\\2_104analysis\\chromedriver')\n",
    "        driver.implicitly_wait(wait)\n",
    "        driver.get(url)\n",
    "    except:\n",
    "        print('not found')\n",
    "    return driver"
   ]
  },
  {
   "cell_type": "markdown",
   "metadata": {},
   "source": [
    "### 找最大頁數"
   ]
  },
  {
   "cell_type": "code",
   "execution_count": 66,
   "metadata": {},
   "outputs": [],
   "source": [
    "url='https://www.104.com.tw/jobs/main/'\n",
    "driver=getWebdriver(url,False)\n",
    "driver.find_element_by_xpath('/html/body/article[1]/div/div/div[4]/div/input').send_keys('scala\\n')\n",
    "time.sleep(2)  # 不能省略\n",
    "soup=BeautifulSoup(driver.page_source,'lxml')\n",
    "\n",
    "max_page=int(re.findall('\\s(\\d)+\\s\\W',soup.find('select',class_=\"page-select js-paging-select gtm-paging-top\").find_all('option')[-1].text)[0])\n",
    "driver.quit()"
   ]
  },
  {
   "cell_type": "code",
   "execution_count": 67,
   "metadata": {},
   "outputs": [
    {
     "data": {
      "text/plain": [
       "6"
      ]
     },
     "execution_count": 67,
     "metadata": {},
     "output_type": "execute_result"
    }
   ],
   "source": [
    "max_page"
   ]
  },
  {
   "cell_type": "markdown",
   "metadata": {},
   "source": [
    "### 抓取第一頁資料"
   ]
  },
  {
   "cell_type": "code",
   "execution_count": 8,
   "metadata": {
    "scrolled": false
   },
   "outputs": [
    {
     "data": {
      "text/plain": [
       "20"
      ]
     },
     "execution_count": 8,
     "metadata": {},
     "output_type": "execute_result"
    }
   ],
   "source": [
    "url_api='https://www.104.com.tw/jobs/search/'\n",
    "params={\n",
    "    'ro': '0',\n",
    "    'keyword': 'scala',\n",
    "    'jobcatExpansionType': '0',\n",
    "    'order': '14',\n",
    "    'asc': '0',\n",
    "    'page': '1',\n",
    "    'mode': 's',\n",
    "    'jobsource': '2018indexpoc'\n",
    "    }\n",
    "\n",
    "\n",
    "page=1\n",
    "\n",
    "resp=requests.get(url_api,params)\n",
    "soup=BeautifulSoup(resp.text,'lxml')\n",
    "datas=soup.find(id=\"js-job-content\").find_all('article')\n",
    "\n",
    "# 一頁20筆資料\n",
    "len(soup.find(id=\"js-job-content\").find_all('article'))"
   ]
  },
  {
   "cell_type": "markdown",
   "metadata": {},
   "source": [
    "### 抓取子頁面資料"
   ]
  },
  {
   "cell_type": "code",
   "execution_count": 53,
   "metadata": {},
   "outputs": [],
   "source": [
    "url_subpage='https://www.104.com.tw/job/6ecm4?jobsource=jolist_b_relevance'\n",
    "\n",
    "driver=getWebdriver(url_subpage)\n",
    "time.sleep(2)\n",
    "soup=BeautifulSoup(driver.page_source,'lxml')\n",
    "\n",
    "# 抓取 '工作內容' 及 '其他條件'\n",
    "content=soup.find('p',class_=\"mb-5 r3 job-description__content text-break\").text.strip()\n",
    "condition=soup.find('p',class_=\"m-0 r3\").text.strip()"
   ]
  },
  {
   "cell_type": "markdown",
   "metadata": {},
   "source": [
    "### 子頁面文字探勘"
   ]
  },
  {
   "cell_type": "code",
   "execution_count": 54,
   "metadata": {
    "scrolled": true
   },
   "outputs": [],
   "source": [
    "\n",
    "keyword_list=[]\n",
    "keyword=re.sub(r'[0-9.,\\r\\n\\t+]','',content+condition)\n",
    "keyword = jieba.cut(keyword, cut_all=True)\n",
    "for k in keyword:\n",
    "    if k!=' ' and k!='':\n",
    "        keyword_list.append(k)"
   ]
  },
  {
   "cell_type": "code",
   "execution_count": 20,
   "metadata": {
    "scrolled": true
   },
   "outputs": [
    {
     "name": "stdout",
     "output_type": "stream",
     "text": [
      "Senior Java/Scala Data Backend Engineer (大數據)\n",
      "資料科學工程師（Scala / Java 軟體工程）-- 資料科學實驗室 (數數發中心, DDT)\n",
      "[KKStream] Data Engineer\n",
      "大數據工程師(Senior)\n",
      "Data Engineer Manager 資料工程經理\n",
      "Data Scientist\n",
      "大數據工程師[新竹]\n",
      "軟體設計資深工程師(資料分析)_數位製造平台(桃三)\n",
      "軟體開發工程師\n",
      "Garmin Asia_AI資料科學家(AI Data Scientist)_汐止/林口\n",
      "Garmin Asia_AI作業研究應用工程師(AI & Operations Research Application Engineer)_汐止/林口\n",
      "RISC-V FPGA Verification Engineer\n",
      "Design Verification Engineer\n",
      "Java 後端軟體工程師<NH>\n",
      "[R&D] 資深後端工程師\n",
      "雲端資料工程師 (Cloud Data Engineer)\n",
      "System Verification Engineer\n",
      "Data Scientist\n",
      "Cloud軟體工程師 (月薪10萬-20萬）\n",
      "F16/QE - Big Data Engineer\n"
     ]
    }
   ],
   "source": [
    "# 抓取最大頁數\n",
    "starttime=time.time()\n",
    "url='https://www.104.com.tw/jobs/main/'\n",
    "driver=getWebdriver(url,bgmode=False)\n",
    "driver.find_element_by_xpath('/html/body/article[1]/div/div/div[4]/div/input').send_keys('scala\\n')\n",
    "time.sleep(2)  # 不能省略\n",
    "\n",
    "soup=BeautifulSoup(driver.page_source,'lxml')\n",
    "max_page=int(re.findall('\\s(\\d)+\\s\\W',soup.find('select',class_=\"page-select js-paging-select gtm-paging-top\").find_all('option')[-1].text)[0])\n",
    "\n",
    "\n",
    "\n",
    "# 抓取每頁資料\n",
    "\n",
    "soup=BeautifulSoup(driver.page_source,'lxml')\n",
    "datas=soup.find(id=\"js-job-content\").select('article>div.b-block__left>h2>a')\n",
    "\n",
    "for data in datas:\n",
    "    print(data.text.strip())\n",
    "    \n",
    "    \n",
    "driver.quit()"
   ]
  },
  {
   "cell_type": "markdown",
   "metadata": {},
   "source": [
    "### 抓出每頁資料"
   ]
  },
  {
   "cell_type": "code",
   "execution_count": 14,
   "metadata": {
    "scrolled": true
   },
   "outputs": [
    {
     "name": "stderr",
     "output_type": "stream",
     "text": [
      "Building prefix dict from the default dictionary ...\n",
      "Loading model from cache C:\\Users\\Liang\\AppData\\Local\\Temp\\jieba.cache\n",
      "Loading model cost 0.554 seconds.\n",
      "Prefix dict has been built successfully.\n"
     ]
    },
    {
     "name": "stdout",
     "output_type": "stream",
     "text": [
      "第1頁抓取完成 花費:174.82秒\n",
      "第2頁抓取完成 花費:340.05秒\n"
     ]
    },
    {
     "ename": "KeyboardInterrupt",
     "evalue": "",
     "output_type": "error",
     "traceback": [
      "\u001b[1;31m---------------------------------------------------------------------------\u001b[0m",
      "\u001b[1;31mKeyboardInterrupt\u001b[0m                         Traceback (most recent call last)",
      "\u001b[1;32m<ipython-input-14-2553f571bb79>\u001b[0m in \u001b[0;36m<module>\u001b[1;34m\u001b[0m\n\u001b[0;32m     41\u001b[0m                 \u001b[0mdriver2\u001b[0m\u001b[1;33m=\u001b[0m\u001b[0mgetWebdriver\u001b[0m\u001b[1;33m(\u001b[0m\u001b[0mlink\u001b[0m\u001b[1;33m)\u001b[0m\u001b[1;33m\u001b[0m\u001b[1;33m\u001b[0m\u001b[0m\n\u001b[1;32m---> 42\u001b[1;33m                 \u001b[0mtime\u001b[0m\u001b[1;33m.\u001b[0m\u001b[0msleep\u001b[0m\u001b[1;33m(\u001b[0m\u001b[1;36m1\u001b[0m\u001b[1;33m)\u001b[0m\u001b[1;33m\u001b[0m\u001b[1;33m\u001b[0m\u001b[0m\n\u001b[0m\u001b[0;32m     43\u001b[0m                 \u001b[0msoup\u001b[0m\u001b[1;33m=\u001b[0m\u001b[0mBeautifulSoup\u001b[0m\u001b[1;33m(\u001b[0m\u001b[0mdriver2\u001b[0m\u001b[1;33m.\u001b[0m\u001b[0mpage_source\u001b[0m\u001b[1;33m,\u001b[0m\u001b[1;34m'lxml'\u001b[0m\u001b[1;33m)\u001b[0m\u001b[1;33m\u001b[0m\u001b[1;33m\u001b[0m\u001b[0m\n",
      "\u001b[1;31mKeyboardInterrupt\u001b[0m: ",
      "\nDuring handling of the above exception, another exception occurred:\n",
      "\u001b[1;31mtimeout\u001b[0m                                   Traceback (most recent call last)",
      "\u001b[1;32m~\\anaconda3\\lib\\socket.py\u001b[0m in \u001b[0;36mcreate_connection\u001b[1;34m(address, timeout, source_address)\u001b[0m\n\u001b[0;32m    795\u001b[0m                 \u001b[0msock\u001b[0m\u001b[1;33m.\u001b[0m\u001b[0mbind\u001b[0m\u001b[1;33m(\u001b[0m\u001b[0msource_address\u001b[0m\u001b[1;33m)\u001b[0m\u001b[1;33m\u001b[0m\u001b[1;33m\u001b[0m\u001b[0m\n\u001b[1;32m--> 796\u001b[1;33m             \u001b[0msock\u001b[0m\u001b[1;33m.\u001b[0m\u001b[0mconnect\u001b[0m\u001b[1;33m(\u001b[0m\u001b[0msa\u001b[0m\u001b[1;33m)\u001b[0m\u001b[1;33m\u001b[0m\u001b[1;33m\u001b[0m\u001b[0m\n\u001b[0m\u001b[0;32m    797\u001b[0m             \u001b[1;31m# Break explicitly a reference cycle\u001b[0m\u001b[1;33m\u001b[0m\u001b[1;33m\u001b[0m\u001b[1;33m\u001b[0m\u001b[0m\n",
      "\u001b[1;31mtimeout\u001b[0m: timed out",
      "\nDuring handling of the above exception, another exception occurred:\n",
      "\u001b[1;31mKeyboardInterrupt\u001b[0m                         Traceback (most recent call last)",
      "\u001b[1;32m<ipython-input-14-2553f571bb79>\u001b[0m in \u001b[0;36m<module>\u001b[1;34m\u001b[0m\n\u001b[0;32m     50\u001b[0m                 \u001b[1;32mbreak\u001b[0m\u001b[1;33m\u001b[0m\u001b[1;33m\u001b[0m\u001b[0m\n\u001b[0;32m     51\u001b[0m             \u001b[1;32mfinally\u001b[0m\u001b[1;33m:\u001b[0m\u001b[1;33m\u001b[0m\u001b[1;33m\u001b[0m\u001b[0m\n\u001b[1;32m---> 52\u001b[1;33m                 \u001b[0mdriver2\u001b[0m\u001b[1;33m.\u001b[0m\u001b[0mquit\u001b[0m\u001b[1;33m(\u001b[0m\u001b[1;33m)\u001b[0m\u001b[1;33m\u001b[0m\u001b[1;33m\u001b[0m\u001b[0m\n\u001b[0m\u001b[0;32m     53\u001b[0m \u001b[1;33m\u001b[0m\u001b[0m\n\u001b[0;32m     54\u001b[0m         \u001b[0mkeyword_list\u001b[0m\u001b[1;33m=\u001b[0m\u001b[1;33m[\u001b[0m\u001b[1;33m]\u001b[0m\u001b[1;33m\u001b[0m\u001b[1;33m\u001b[0m\u001b[0m\n",
      "\u001b[1;32m~\\anaconda3\\lib\\site-packages\\selenium\\webdriver\\chrome\\webdriver.py\u001b[0m in \u001b[0;36mquit\u001b[1;34m(self)\u001b[0m\n\u001b[0;32m    156\u001b[0m             \u001b[1;32mpass\u001b[0m\u001b[1;33m\u001b[0m\u001b[1;33m\u001b[0m\u001b[0m\n\u001b[0;32m    157\u001b[0m         \u001b[1;32mfinally\u001b[0m\u001b[1;33m:\u001b[0m\u001b[1;33m\u001b[0m\u001b[1;33m\u001b[0m\u001b[0m\n\u001b[1;32m--> 158\u001b[1;33m             \u001b[0mself\u001b[0m\u001b[1;33m.\u001b[0m\u001b[0mservice\u001b[0m\u001b[1;33m.\u001b[0m\u001b[0mstop\u001b[0m\u001b[1;33m(\u001b[0m\u001b[1;33m)\u001b[0m\u001b[1;33m\u001b[0m\u001b[1;33m\u001b[0m\u001b[0m\n\u001b[0m\u001b[0;32m    159\u001b[0m \u001b[1;33m\u001b[0m\u001b[0m\n\u001b[0;32m    160\u001b[0m     \u001b[1;32mdef\u001b[0m \u001b[0mcreate_options\u001b[0m\u001b[1;33m(\u001b[0m\u001b[0mself\u001b[0m\u001b[1;33m)\u001b[0m\u001b[1;33m:\u001b[0m\u001b[1;33m\u001b[0m\u001b[1;33m\u001b[0m\u001b[0m\n",
      "\u001b[1;32m~\\anaconda3\\lib\\site-packages\\selenium\\webdriver\\common\\service.py\u001b[0m in \u001b[0;36mstop\u001b[1;34m(self)\u001b[0m\n\u001b[0;32m    149\u001b[0m \u001b[1;33m\u001b[0m\u001b[0m\n\u001b[0;32m    150\u001b[0m         \u001b[1;32mtry\u001b[0m\u001b[1;33m:\u001b[0m\u001b[1;33m\u001b[0m\u001b[1;33m\u001b[0m\u001b[0m\n\u001b[1;32m--> 151\u001b[1;33m             \u001b[0mself\u001b[0m\u001b[1;33m.\u001b[0m\u001b[0msend_remote_shutdown_command\u001b[0m\u001b[1;33m(\u001b[0m\u001b[1;33m)\u001b[0m\u001b[1;33m\u001b[0m\u001b[1;33m\u001b[0m\u001b[0m\n\u001b[0m\u001b[0;32m    152\u001b[0m         \u001b[1;32mexcept\u001b[0m \u001b[0mTypeError\u001b[0m\u001b[1;33m:\u001b[0m\u001b[1;33m\u001b[0m\u001b[1;33m\u001b[0m\u001b[0m\n\u001b[0;32m    153\u001b[0m             \u001b[1;32mpass\u001b[0m\u001b[1;33m\u001b[0m\u001b[1;33m\u001b[0m\u001b[0m\n",
      "\u001b[1;32m~\\anaconda3\\lib\\site-packages\\selenium\\webdriver\\common\\service.py\u001b[0m in \u001b[0;36msend_remote_shutdown_command\u001b[1;34m(self)\u001b[0m\n\u001b[0;32m    130\u001b[0m \u001b[1;33m\u001b[0m\u001b[0m\n\u001b[0;32m    131\u001b[0m         \u001b[1;32mfor\u001b[0m \u001b[0mx\u001b[0m \u001b[1;32min\u001b[0m \u001b[0mrange\u001b[0m\u001b[1;33m(\u001b[0m\u001b[1;36m30\u001b[0m\u001b[1;33m)\u001b[0m\u001b[1;33m:\u001b[0m\u001b[1;33m\u001b[0m\u001b[1;33m\u001b[0m\u001b[0m\n\u001b[1;32m--> 132\u001b[1;33m             \u001b[1;32mif\u001b[0m \u001b[1;32mnot\u001b[0m \u001b[0mself\u001b[0m\u001b[1;33m.\u001b[0m\u001b[0mis_connectable\u001b[0m\u001b[1;33m(\u001b[0m\u001b[1;33m)\u001b[0m\u001b[1;33m:\u001b[0m\u001b[1;33m\u001b[0m\u001b[1;33m\u001b[0m\u001b[0m\n\u001b[0m\u001b[0;32m    133\u001b[0m                 \u001b[1;32mbreak\u001b[0m\u001b[1;33m\u001b[0m\u001b[1;33m\u001b[0m\u001b[0m\n\u001b[0;32m    134\u001b[0m             \u001b[1;32melse\u001b[0m\u001b[1;33m:\u001b[0m\u001b[1;33m\u001b[0m\u001b[1;33m\u001b[0m\u001b[0m\n",
      "\u001b[1;32m~\\anaconda3\\lib\\site-packages\\selenium\\webdriver\\common\\service.py\u001b[0m in \u001b[0;36mis_connectable\u001b[1;34m(self)\u001b[0m\n\u001b[0;32m    113\u001b[0m \u001b[1;33m\u001b[0m\u001b[0m\n\u001b[0;32m    114\u001b[0m     \u001b[1;32mdef\u001b[0m \u001b[0mis_connectable\u001b[0m\u001b[1;33m(\u001b[0m\u001b[0mself\u001b[0m\u001b[1;33m)\u001b[0m\u001b[1;33m:\u001b[0m\u001b[1;33m\u001b[0m\u001b[1;33m\u001b[0m\u001b[0m\n\u001b[1;32m--> 115\u001b[1;33m         \u001b[1;32mreturn\u001b[0m \u001b[0mutils\u001b[0m\u001b[1;33m.\u001b[0m\u001b[0mis_connectable\u001b[0m\u001b[1;33m(\u001b[0m\u001b[0mself\u001b[0m\u001b[1;33m.\u001b[0m\u001b[0mport\u001b[0m\u001b[1;33m)\u001b[0m\u001b[1;33m\u001b[0m\u001b[1;33m\u001b[0m\u001b[0m\n\u001b[0m\u001b[0;32m    116\u001b[0m \u001b[1;33m\u001b[0m\u001b[0m\n\u001b[0;32m    117\u001b[0m     \u001b[1;32mdef\u001b[0m \u001b[0msend_remote_shutdown_command\u001b[0m\u001b[1;33m(\u001b[0m\u001b[0mself\u001b[0m\u001b[1;33m)\u001b[0m\u001b[1;33m:\u001b[0m\u001b[1;33m\u001b[0m\u001b[1;33m\u001b[0m\u001b[0m\n",
      "\u001b[1;32m~\\anaconda3\\lib\\site-packages\\selenium\\webdriver\\common\\utils.py\u001b[0m in \u001b[0;36mis_connectable\u001b[1;34m(port, host)\u001b[0m\n\u001b[0;32m    104\u001b[0m     \u001b[0msocket_\u001b[0m \u001b[1;33m=\u001b[0m \u001b[1;32mNone\u001b[0m\u001b[1;33m\u001b[0m\u001b[1;33m\u001b[0m\u001b[0m\n\u001b[0;32m    105\u001b[0m     \u001b[1;32mtry\u001b[0m\u001b[1;33m:\u001b[0m\u001b[1;33m\u001b[0m\u001b[1;33m\u001b[0m\u001b[0m\n\u001b[1;32m--> 106\u001b[1;33m         \u001b[0msocket_\u001b[0m \u001b[1;33m=\u001b[0m \u001b[0msocket\u001b[0m\u001b[1;33m.\u001b[0m\u001b[0mcreate_connection\u001b[0m\u001b[1;33m(\u001b[0m\u001b[1;33m(\u001b[0m\u001b[0mhost\u001b[0m\u001b[1;33m,\u001b[0m \u001b[0mport\u001b[0m\u001b[1;33m)\u001b[0m\u001b[1;33m,\u001b[0m \u001b[1;36m1\u001b[0m\u001b[1;33m)\u001b[0m\u001b[1;33m\u001b[0m\u001b[1;33m\u001b[0m\u001b[0m\n\u001b[0m\u001b[0;32m    107\u001b[0m         \u001b[0mresult\u001b[0m \u001b[1;33m=\u001b[0m \u001b[1;32mTrue\u001b[0m\u001b[1;33m\u001b[0m\u001b[1;33m\u001b[0m\u001b[0m\n\u001b[0;32m    108\u001b[0m     \u001b[1;32mexcept\u001b[0m \u001b[0msocket\u001b[0m\u001b[1;33m.\u001b[0m\u001b[0merror\u001b[0m\u001b[1;33m:\u001b[0m\u001b[1;33m\u001b[0m\u001b[1;33m\u001b[0m\u001b[0m\n",
      "\u001b[1;32m~\\anaconda3\\lib\\socket.py\u001b[0m in \u001b[0;36mcreate_connection\u001b[1;34m(address, timeout, source_address)\u001b[0m\n\u001b[0;32m    794\u001b[0m             \u001b[1;32mif\u001b[0m \u001b[0msource_address\u001b[0m\u001b[1;33m:\u001b[0m\u001b[1;33m\u001b[0m\u001b[1;33m\u001b[0m\u001b[0m\n\u001b[0;32m    795\u001b[0m                 \u001b[0msock\u001b[0m\u001b[1;33m.\u001b[0m\u001b[0mbind\u001b[0m\u001b[1;33m(\u001b[0m\u001b[0msource_address\u001b[0m\u001b[1;33m)\u001b[0m\u001b[1;33m\u001b[0m\u001b[1;33m\u001b[0m\u001b[0m\n\u001b[1;32m--> 796\u001b[1;33m             \u001b[0msock\u001b[0m\u001b[1;33m.\u001b[0m\u001b[0mconnect\u001b[0m\u001b[1;33m(\u001b[0m\u001b[0msa\u001b[0m\u001b[1;33m)\u001b[0m\u001b[1;33m\u001b[0m\u001b[1;33m\u001b[0m\u001b[0m\n\u001b[0m\u001b[0;32m    797\u001b[0m             \u001b[1;31m# Break explicitly a reference cycle\u001b[0m\u001b[1;33m\u001b[0m\u001b[1;33m\u001b[0m\u001b[1;33m\u001b[0m\u001b[0m\n\u001b[0;32m    798\u001b[0m             \u001b[0merr\u001b[0m \u001b[1;33m=\u001b[0m \u001b[1;32mNone\u001b[0m\u001b[1;33m\u001b[0m\u001b[1;33m\u001b[0m\u001b[0m\n",
      "\u001b[1;31mKeyboardInterrupt\u001b[0m: "
     ]
    }
   ],
   "source": [
    "final_data=[]\n",
    "\n",
    "# 抓取最大頁數\n",
    "starttime=time.time()\n",
    "url='https://www.104.com.tw/jobs/main/'\n",
    "driver=getWebdriver(url,bgmode=False)\n",
    "driver.find_element_by_xpath('/html/body/article[1]/div/div/div[4]/div/input').send_keys('scala\\n')\n",
    "time.sleep(2)  # 不能省略\n",
    "\n",
    "soup=BeautifulSoup(driver.page_source,'lxml')\n",
    "max_page=int(re.findall('\\s(\\d)+\\s\\W',soup.find('select',class_=\"page-select js-paging-select gtm-paging-top\").find_all('option')[-1].text)[0])\n",
    "\n",
    "\n",
    "\n",
    "# 抓取每頁資料\n",
    "select_bar=Select(driver.find_element_by_xpath('//*[@id=\"js-job-header\"]/div[1]/label[1]/select'))\n",
    "for page in range(1,max_page+1):\n",
    "    select_bar.select_by_visible_text(f\"第 {page} / {max_page} 頁\")\n",
    "    time.sleep(3)\n",
    "\n",
    "    soup=BeautifulSoup(driver.page_source,'lxml')\n",
    "    datas=soup.find(id=\"js-job-content\").select('article')\n",
    "    \n",
    "    \n",
    "    # 抓取每頁職缺資料\n",
    "    temp=[]\n",
    "    for data in datas:\n",
    "        title=data.find('h2').find('a').text.strip()\n",
    "        link='https:'+data.find('h2').find('a')['href']\n",
    "        company=data.find('ul',class_=\"b-list-inline b-clearfix\").find_all('li')[1].text.strip()\n",
    "        industrial=data.find('ul',class_=\"b-list-inline b-clearfix\").find_all('li')[2].text.strip()\n",
    "        area=data.find('ul',class_=\"b-list-inline b-clearfix job-list-intro b-content\").find_all('li')[0].text.strip()\n",
    "        experience=data.find('ul',class_=\"b-list-inline b-clearfix job-list-intro b-content\").find_all('li')[1].text.strip()\n",
    "        education=data.find('ul',class_=\"b-list-inline b-clearfix job-list-intro b-content\").find_all('li')[2].text.strip()\n",
    "        pay=data.find('div',class_=\"job-list-tag b-content\").find_all('span')[0].text.strip()\n",
    "\n",
    "        # 尋找該職位Keyword\n",
    "        driver2=getWebdriver(link)\n",
    "        time.sleep(1)\n",
    "        soup=BeautifulSoup(driver2.page_source,'lxml')\n",
    "        content=driver2.find_element_by_xpath('//*[@id=\"app\"]/div[2]/div/div[1]/div[1]/div[2]/div[1]/p').text.strip()\n",
    "        condition=driver2.find_element_by_xpath('//*[@id=\"app\"]/div[2]/div/div[1]/div[2]/div[3]/div/div[2]/p').text.strip()\n",
    "        driver2.quit()\n",
    "        \n",
    "        keyword_list=[]\n",
    "        if content+condition !=[]:\n",
    "            keyword=re.sub(r'[0-9.,\\r\\n\\t+]','',content+condition)\n",
    "            keyword = jieba.cut(keyword, cut_all=True)\n",
    "            for k in keyword:\n",
    "                if k!=' 'and k!='':\n",
    "                    keyword_list.append(k)\n",
    "\n",
    "\n",
    "        temp.extend([title,link,company,industrial,area,experience,education,pay])\n",
    "        temp.append(keyword_list)\n",
    "        final_data.append(temp)\n",
    "\n",
    "    endtime=time.time()\n",
    "    print('第{}頁抓取完成 花費:{:.2f}秒'.format(page,endtime-starttime))\n",
    "driver.quit()"
   ]
  },
  {
   "cell_type": "code",
   "execution_count": 80,
   "metadata": {
    "scrolled": false
   },
   "outputs": [],
   "source": [
    "df=pd.DataFrame(page_data,columns=['Title','Link','company','Industrial','Area','Experience','Education','Pay','Keyword'])\n",
    "df.to_csv('scala.csv',encoding='utf-8-sig')\n"
   ]
  },
  {
   "cell_type": "code",
   "execution_count": 18,
   "metadata": {
    "scrolled": true
   },
   "outputs": [
    {
     "name": "stderr",
     "output_type": "stream",
     "text": [
      "Building prefix dict from the default dictionary ...\n",
      "Loading model from cache C:\\Users\\LIANG\\AppData\\Local\\Temp\\jieba.cache\n",
      "Loading model cost 0.520 seconds.\n",
      "Prefix dict has been built successfully.\n"
     ]
    }
   ],
   "source": [
    "# jieba( string , mode )\n",
    "keyword_list=[]\n",
    "keyword=re.sub(r'[0-9.,\\r\\n\\t+]','',content+condition)\n",
    "keyword = jieba.cut(keyword, cut_all=True)\n",
    "for k in keyword:\n",
    "    if k!=' ' and k!='':\n",
    "        keyword_list.append(k)\n"
   ]
  },
  {
   "cell_type": "code",
   "execution_count": null,
   "metadata": {},
   "outputs": [],
   "source": []
  }
 ],
 "metadata": {
  "kernelspec": {
   "display_name": "Python 3",
   "language": "python",
   "name": "python3"
  },
  "language_info": {
   "codemirror_mode": {
    "name": "ipython",
    "version": 3
   },
   "file_extension": ".py",
   "mimetype": "text/x-python",
   "name": "python",
   "nbconvert_exporter": "python",
   "pygments_lexer": "ipython3",
   "version": "3.8.3"
  }
 },
 "nbformat": 4,
 "nbformat_minor": 4
}
